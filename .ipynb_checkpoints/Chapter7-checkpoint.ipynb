{
 "cells": [
  {
   "cell_type": "code",
   "execution_count": null,
   "metadata": {},
   "outputs": [],
   "source": [
    "import nltk"
   ]
  },
  {
   "cell_type": "code",
   "execution_count": null,
   "metadata": {},
   "outputs": [],
   "source": [
    "# locs = [('Omnicom', 'IN', 'New York'),\n",
    "#        ('DDB Needham', 'IN', 'New York'),\n",
    "#        ('Kaplan Thaler Group', 'IN', 'New York'),\n",
    "#        ('BBDO South', 'IN', 'Atlanta'),\n",
    "#        ('Georgia-Pacific', 'IN', 'Atlanta')]\n",
    "# query = [e1 for (e1, rel, e2) in locs if e2=='Atlanta']\n",
    "# print(query)"
   ]
  },
  {
   "cell_type": "code",
   "execution_count": null,
   "metadata": {},
   "outputs": [],
   "source": [
    "def ie_preprocess(document):\n",
    "    sentences = nltk.sent_tokenize(document)\n",
    "    sentences = [nltk.wor]"
   ]
  }
 ],
 "metadata": {
  "kernelspec": {
   "display_name": "Python 3",
   "language": "python",
   "name": "python3"
  },
  "language_info": {
   "codemirror_mode": {
    "name": "ipython",
    "version": 3
   },
   "file_extension": ".py",
   "mimetype": "text/x-python",
   "name": "python",
   "nbconvert_exporter": "python",
   "pygments_lexer": "ipython3",
   "version": "3.7.1"
  }
 },
 "nbformat": 4,
 "nbformat_minor": 2
}
